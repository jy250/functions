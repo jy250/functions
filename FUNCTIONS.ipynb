{
  "nbformat": 4,
  "nbformat_minor": 0,
  "metadata": {
    "colab": {
      "provenance": []
    },
    "kernelspec": {
      "name": "python3",
      "display_name": "Python 3"
    },
    "language_info": {
      "name": "python"
    }
  },
  "cells": [
    {
      "cell_type": "code",
      "execution_count": 3,
      "metadata": {
        "colab": {
          "base_uri": "https://localhost:8080/",
          "height": 53
        },
        "id": "r36U2CpYkXAa",
        "outputId": "6787e25b-1f6f-4d5e-c056-3501ef47214b"
      },
      "outputs": [
        {
          "output_type": "execute_result",
          "data": {
            "text/plain": [
              "' Python is a high-level, interpreted programming language known  for its readability, simplicity, and versatility.  \\n        Python Popular ->    Ease of Learning & Use\\n                       ->    Versatility\\n                       ->    Strong Community and Ecosystem\\n                       ->    Demand in the Job Market\\n                       ->    Integration Capabilities\\n'"
            ],
            "application/vnd.google.colaboratory.intrinsic+json": {
              "type": "string"
            }
          },
          "metadata": {},
          "execution_count": 3
        }
      ],
      "source": [
        "    #  What is Python, and why is it popular ?\n",
        "    \"\"\" Python is a high-level, interpreted programming language known  for its readability, simplicity, and versatility.\n",
        "           Python Popular ->    Ease of Learning & Use\n",
        "                           ->    Versatility\n",
        "                           ->    Strong Community and Ecosystem\n",
        "                           ->    Demand in the Job Market\n",
        "                           ->    Integration Capabilities\n",
        "    \"\"\""
      ]
    },
    {
      "cell_type": "code",
      "source": [
        "  #  What is an interpreter in Python ?\n",
        "  \"\"\"An interpreter in Python is a program that reads and executes Python code line by line. Unlike compiled languages (like C or Java), where code is translated into machine code before execution, Python code is interpreted at runtime.\n",
        "  \"\"\""
      ],
      "metadata": {
        "colab": {
          "base_uri": "https://localhost:8080/",
          "height": 53
        },
        "id": "7bu_T2p8nKaH",
        "outputId": "ac98aa88-fedf-4857-e473-37159a4aa0fe"
      },
      "execution_count": 4,
      "outputs": [
        {
          "output_type": "execute_result",
          "data": {
            "text/plain": [
              "'An interpreter in Python is a program that reads and executes Python code line by line. Unlike compiled languages (like C or Java), where code is translated into machine code before execution, Python code is interpreted at runtime.\\n'"
            ],
            "application/vnd.google.colaboratory.intrinsic+json": {
              "type": "string"
            }
          },
          "metadata": {},
          "execution_count": 4
        }
      ]
    },
    {
      "cell_type": "code",
      "source": [
        "#  What are pre-defined keywords in Python\n",
        "\n",
        "\"\"\"In Python, pre-defined keywords (also called reserved words) are special words that are built into the language. These words have specific meanings and cannot be used as identifiers (like variable or function names) because they are part of Python’s syntax and structure.\n",
        "\"\"\""
      ],
      "metadata": {
        "colab": {
          "base_uri": "https://localhost:8080/",
          "height": 53
        },
        "id": "799cEX6Mntsj",
        "outputId": "cf550e55-07d7-4451-cce8-8100a4d7ee60"
      },
      "execution_count": 5,
      "outputs": [
        {
          "output_type": "execute_result",
          "data": {
            "text/plain": [
              "'In Python, pre-defined keywords (also called reserved words) are special words that are built into the language. These words have specific meanings and cannot be used as identifiers (like variable or function names) because they are part of Python’s syntax and structure.\\n'"
            ],
            "application/vnd.google.colaboratory.intrinsic+json": {
              "type": "string"
            }
          },
          "metadata": {},
          "execution_count": 5
        }
      ]
    },
    {
      "cell_type": "code",
      "source": [
        "#   Can keywords be used as variable names\n",
        "\"\"\"  No, keywords cannot be used as variable names in Python.\n",
        "\"\"\""
      ],
      "metadata": {
        "colab": {
          "base_uri": "https://localhost:8080/",
          "height": 35
        },
        "id": "CZnJDZmSoDRT",
        "outputId": "c4ff646e-47f3-4eb4-8df8-084902d91c49"
      },
      "execution_count": 6,
      "outputs": [
        {
          "output_type": "execute_result",
          "data": {
            "text/plain": [
              "'  No, keywords cannot be used as variable names in Python.\\n'"
            ],
            "application/vnd.google.colaboratory.intrinsic+json": {
              "type": "string"
            }
          },
          "metadata": {},
          "execution_count": 6
        }
      ]
    },
    {
      "cell_type": "code",
      "source": [
        "#    What is mutability in Python\n",
        "\"\"\"In Python, mutability refers to whether or not an object can be changed after it is created.\n",
        "\"\"\""
      ],
      "metadata": {
        "colab": {
          "base_uri": "https://localhost:8080/",
          "height": 35
        },
        "id": "AOZDbN1toaaH",
        "outputId": "49ec5d6f-b59c-44f8-ff1b-93257a65a3d6"
      },
      "execution_count": 7,
      "outputs": [
        {
          "output_type": "execute_result",
          "data": {
            "text/plain": [
              "'In Python, mutability refers to whether or not an object can be changed after it is created.\\n'"
            ],
            "application/vnd.google.colaboratory.intrinsic+json": {
              "type": "string"
            }
          },
          "metadata": {},
          "execution_count": 7
        }
      ]
    },
    {
      "cell_type": "code",
      "source": [
        "#   Why are lists mutable, but tuples are immutable\n",
        "\"\"\"Great question! The difference in mutability between lists and tuples in Python comes down to design choices based on use cases, efficiency, and safety. Here's a clear explanation.\n",
        "\n",
        "\"\"\""
      ],
      "metadata": {
        "colab": {
          "base_uri": "https://localhost:8080/",
          "height": 35
        },
        "id": "PyVmplONo2bh",
        "outputId": "ff59c875-0caf-4545-a57e-8d218fbded20"
      },
      "execution_count": 8,
      "outputs": [
        {
          "output_type": "execute_result",
          "data": {
            "text/plain": [
              "\"Great question! The difference in mutability between lists and tuples in Python comes down to design choices based on use cases, efficiency, and safety. Here's a clear explanation.\\n\\n\""
            ],
            "application/vnd.google.colaboratory.intrinsic+json": {
              "type": "string"
            }
          },
          "metadata": {},
          "execution_count": 8
        }
      ]
    },
    {
      "cell_type": "code",
      "source": [
        "#  What is the difference between “==” and “is” operators in Python\n",
        "\"\"\" == and is are not the same — they test different things\n",
        "    == → Equality & is → Identity\n",
        "\"\"\""
      ],
      "metadata": {
        "colab": {
          "base_uri": "https://localhost:8080/",
          "height": 35
        },
        "id": "IA7pj7DopOeE",
        "outputId": "3ba16ef4-d822-4414-a0f5-973615636878"
      },
      "execution_count": 9,
      "outputs": [
        {
          "output_type": "execute_result",
          "data": {
            "text/plain": [
              "' == and is are not the same — they test different things\\n    == → Equality & is → Identity\\n'"
            ],
            "application/vnd.google.colaboratory.intrinsic+json": {
              "type": "string"
            }
          },
          "metadata": {},
          "execution_count": 9
        }
      ]
    },
    {
      "cell_type": "code",
      "source": [
        "#  What are logical operators in Python\n",
        "\"\"\"Logical operators in Python are used to combine conditional statements (i.e., expressions that return True or False). They let you build more complex conditions.\n",
        "\"\"\""
      ],
      "metadata": {
        "colab": {
          "base_uri": "https://localhost:8080/",
          "height": 35
        },
        "id": "PLtHpDkzpuXo",
        "outputId": "175afde7-44c5-4cfa-f74b-8e287e27c91d"
      },
      "execution_count": 10,
      "outputs": [
        {
          "output_type": "execute_result",
          "data": {
            "text/plain": [
              "'Logical operators in Python are used to combine conditional statements (i.e., expressions that return True or False). They let you build more complex conditions.\\n'"
            ],
            "application/vnd.google.colaboratory.intrinsic+json": {
              "type": "string"
            }
          },
          "metadata": {},
          "execution_count": 10
        }
      ]
    },
    {
      "cell_type": "markdown",
      "source": [],
      "metadata": {
        "id": "nDl9V234k6kg"
      }
    },
    {
      "cell_type": "code",
      "source": [
        "#  What is type casting in Python\n",
        "\"\"\"Type casting (also called type conversion) is the process of changing the data type of a value from one type to another — like turning a string into an integer, or a float into a string.\n",
        "\"\"\""
      ],
      "metadata": {
        "colab": {
          "base_uri": "https://localhost:8080/",
          "height": 35
        },
        "id": "owpxhcp2p9Yg",
        "outputId": "f2a52937-0f79-40ae-f5fc-86b4ed003f2d"
      },
      "execution_count": 11,
      "outputs": [
        {
          "output_type": "execute_result",
          "data": {
            "text/plain": [
              "'Type casting (also called type conversion) is the process of changing the data type of a value from one type to another — like turning a string into an integer, or a float into a string.\\n'"
            ],
            "application/vnd.google.colaboratory.intrinsic+json": {
              "type": "string"
            }
          },
          "metadata": {},
          "execution_count": 11
        }
      ]
    },
    {
      "cell_type": "code",
      "source": [
        "#   What is the difference between implicit and explicit type casting\n",
        "\"\"\"It’s about changing a value from one data type to another — like from string to int, or int to float.\n",
        "\"\"\""
      ],
      "metadata": {
        "colab": {
          "base_uri": "https://localhost:8080/",
          "height": 35
        },
        "id": "RDP2ZRxSqPel",
        "outputId": "2747c30e-dc1f-408c-a305-289d48bc8d65"
      },
      "execution_count": 12,
      "outputs": [
        {
          "output_type": "execute_result",
          "data": {
            "text/plain": [
              "'It’s about changing a value from one data type to another — like from string to int, or int to float.\\n'"
            ],
            "application/vnd.google.colaboratory.intrinsic+json": {
              "type": "string"
            }
          },
          "metadata": {},
          "execution_count": 12
        }
      ]
    },
    {
      "cell_type": "code",
      "source": [
        "#  What is the purpose of conditional statements in Python\n",
        "\"\"\"Conditional statements in Python are used to make decisions in your code. They allow your program to choose different actions based on conditions — like a “yes or no” situation.\n",
        "\"\"\""
      ],
      "metadata": {
        "colab": {
          "base_uri": "https://localhost:8080/",
          "height": 35
        },
        "id": "ECV9gLrbqcBM",
        "outputId": "7ae0d31f-1ff1-4d44-b56c-ff05ce05c39f"
      },
      "execution_count": 13,
      "outputs": [
        {
          "output_type": "execute_result",
          "data": {
            "text/plain": [
              "'Conditional statements in Python are used to make decisions in your code. They allow your program to choose different actions based on conditions — like a “yes or no” situation.\\n'"
            ],
            "application/vnd.google.colaboratory.intrinsic+json": {
              "type": "string"
            }
          },
          "metadata": {},
          "execution_count": 13
        }
      ]
    },
    {
      "cell_type": "code",
      "source": [
        "#  How does the elif statement work\n",
        "\"\"\"The elif (short for else if) statement is used to check multiple conditions one after another in an if...elif...else structure.\n",
        "\"\"\""
      ],
      "metadata": {
        "colab": {
          "base_uri": "https://localhost:8080/",
          "height": 35
        },
        "id": "iVwpslTUqbiG",
        "outputId": "a58acc66-6605-46a4-d3fe-3b032a5fac7f"
      },
      "execution_count": 14,
      "outputs": [
        {
          "output_type": "execute_result",
          "data": {
            "text/plain": [
              "'The elif (short for else if) statement is used to check multiple conditions one after another in an if...elif...else structure.\\n'"
            ],
            "application/vnd.google.colaboratory.intrinsic+json": {
              "type": "string"
            }
          },
          "metadata": {},
          "execution_count": 14
        }
      ]
    },
    {
      "cell_type": "code",
      "source": [
        "#  What is the difference between for and while loops\n",
        "\"\"\"   for loop                                                       \twhile loop\n",
        "      Iterating over a sequence\t                              Repeating while a condition is True\n",
        "      When you know how many times to loop                   \tWhen you don’t know how many times you'll\n",
        "       Sequence is exhausted (like a list or range)              \tCondition becomes False\n",
        "  range(), list, tuple, str\t                                Counters, user input, or conditions\n",
        "  \"\"\"\n"
      ],
      "metadata": {
        "colab": {
          "base_uri": "https://localhost:8080/",
          "height": 70
        },
        "id": "VAnFN1rrq-_i",
        "outputId": "8df44182-add2-468c-a264-0a26f47ea2c2"
      },
      "execution_count": 16,
      "outputs": [
        {
          "output_type": "execute_result",
          "data": {
            "text/plain": [
              "\"   for loop                                                       \\twhile loop\\n      Iterating over a sequence\\t                              Repeating while a condition is True\\n      When you know how many times to loop                   \\tWhen you don’t know how many times you'll\\n       Sequence is exhausted (like a list or range)              \\tCondition becomes False\\n  range(), list, tuple, str\\t                                Counters, user input, or conditions  \\n  \""
            ],
            "application/vnd.google.colaboratory.intrinsic+json": {
              "type": "string"
            }
          },
          "metadata": {},
          "execution_count": 16
        }
      ]
    },
    {
      "cell_type": "code",
      "source": [
        "#   Describe a scenario where a while loop is more suitable than a for loop.\n",
        "\"\"\"Scenario Where a while Loop Is More Suitable Than a for Loop\n",
        "   correct_password = \"python123\"\n",
        "user_input = \"\"\n",
        "\n",
        "while user_input != correct_password:\n",
        "    user_input = input(\"Enter your password: \")\n",
        "\n",
        "print(\"Access granted!\")\n",
        "\n",
        "\"\"\"\n"
      ],
      "metadata": {
        "colab": {
          "base_uri": "https://localhost:8080/",
          "height": 53
        },
        "id": "YTCQ1OGMrYAV",
        "outputId": "c4802e8f-2143-4d6b-aa15-027ff050095a"
      },
      "execution_count": 17,
      "outputs": [
        {
          "output_type": "execute_result",
          "data": {
            "text/plain": [
              "'Scenario Where a while Loop Is More Suitable Than a for Loop\\n   correct_password = \"python123\"\\nuser_input = \"\"\\n\\nwhile user_input != correct_password:\\n    user_input = input(\"Enter your password: \")\\n\\nprint(\"Access granted!\")\\n\\n'"
            ],
            "application/vnd.google.colaboratory.intrinsic+json": {
              "type": "string"
            }
          },
          "metadata": {},
          "execution_count": 17
        }
      ]
    },
    {
      "cell_type": "code",
      "source": [],
      "metadata": {
        "id": "cA0GtkResrpu"
      },
      "execution_count": null,
      "outputs": []
    }
  ]
}